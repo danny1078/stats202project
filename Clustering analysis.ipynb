{
 "cells": [
  {
   "cell_type": "code",
   "execution_count": 10,
   "metadata": {},
   "outputs": [
    {
     "name": "stderr",
     "output_type": "stream",
     "text": [
      "Warning message in install.packages(\"amap\", repos = \"http://cran.us.r-project.org\"):\n",
      "“installation of package ‘amap’ had non-zero exit status”Updating HTML index of packages in '.Library'\n",
      "Making 'packages.html' ... done\n"
     ]
    }
   ],
   "source": [
    "\n",
    "install.packages('amap', repos='http://cran.us.r-project.org')"
   ]
  },
  {
   "cell_type": "code",
   "execution_count": 11,
   "metadata": {},
   "outputs": [
    {
     "ename": "ERROR",
     "evalue": "Error in library(factoextra): there is no package called ‘factoextra’\n",
     "output_type": "error",
     "traceback": [
      "Error in library(factoextra): there is no package called ‘factoextra’\nTraceback:\n",
      "1. library(factoextra)"
     ]
    }
   ],
   "source": [
    "library(cluster) \n",
    "library(factoextra)\n",
    "library(amap)\n",
    "library(rgl)\n",
    "\n",
    "StudyA = read.csv('./data/Study_A.csv')\n",
    "StudyB = read.csv('./data/Study_B.csv')\n",
    "StudyC = read.csv('./data/Study_C.csv')\n",
    "StudyD = read.csv('./data/Study_D.csv')\n",
    "StudyE = read.csv('./data/Study_E.csv')\n",
    "StudyE$LeadStatus = NA\n",
    "AllStudies = rbind(StudyA, StudyB, StudyC, StudyD, StudyE)"
   ]
  },
  {
   "cell_type": "code",
   "execution_count": null,
   "metadata": {},
   "outputs": [],
   "source": [
    "ASBaseline = subset(AllStudies, AllStudies$VisitDay == 0)\n",
    "ASBLNorm = ASBaseline\n",
    "ASBLNorm[9:38] = scale(ASBaseline[9:38])"
   ]
  },
  {
   "cell_type": "code",
   "execution_count": null,
   "metadata": {},
   "outputs": [],
   "source": [
    "silhouette_score <- function(k){\n",
    "    km <- kmeans(ASBLNorm[9:38], centers = k, nstart=25, iter.max = 100)\n",
    "    ss <- silhouette(km$cluster, Dist(ASBLNorm[9:38] method='correlation'))\n",
    "    mean(ss[, 3])\n",
    "}\n",
    "k <- 2:10\n",
    "avg_sil <- sapply(k, silhouette_score)\n",
    "plot(k, type='b', avg_sil, xlab='Number of clusters', ylab='Average Silhouette Scores', frame=FALSE, main = \"Silhouette plot of correlation clusters\")"
   ]
  },
  {
   "cell_type": "code",
   "execution_count": null,
   "metadata": {},
   "outputs": [],
   "source": [
    "silhouette_score <- function(k){\n",
    "    km <- kmeans(ASBLNorm[9:38], centers = k, nstart=25, iter.max = 100)\n",
    "    ss <- silhouette(km$cluster, Dist(ASBLNorm[9:38], method='correlation'))\n",
    "    mean(ss[, 3])\n",
    "}\n",
    "k <- 2:10\n",
    "avg_sil <- sapply(k, silhouette_score)\n",
    "plot(k, type='b', avg_sil, xlab='Number of clusters', ylab='Average Silhouette Scores', frame=FALSE, main = \"Silhouette plot of correlation clusters\")"
   ]
  },
  {
   "cell_type": "code",
   "execution_count": 12,
   "metadata": {},
   "outputs": [
    {
     "ename": "ERROR",
     "evalue": "Error in parse(text = x, srcfile = src): <text>:13:1: unexpected '>'\n12:     theme(plot.title = element_text(hjust = 0.5))\n13: >\n    ^\n",
     "output_type": "error",
     "traceback": [
      "Error in parse(text = x, srcfile = src): <text>:13:1: unexpected '>'\n12:     theme(plot.title = element_text(hjust = 0.5))\n13: >\n    ^\nTraceback:\n"
     ]
    }
   ],
   "source": [
    "ClCorr = Kmeans(ASBLNorm[9:38], 3, method = 'correlation', iter.max = 100)\n",
    "fviz_pca_ind(Prcomp, geom.ind = \"point\", pointshape = 21,\n",
    "             fill.ind = as.factor(ClCorr$cluster),\n",
    "             col.ind = \"black\",\n",
    "             palette = \"jco\",\n",
    "             addEllipses = TRUE,\n",
    "             col.var = \"black\",\n",
    "             col.var = \"black\",\n",
    "             repel = TRUE,\n",
    "             legend.title = \"Diagnosis\") +\n",
    "    ggtitle(\"2D PCA-plot from 30 feature dataset\") +\n",
    "    theme(plot.title = element_text(hjust = 0.5))\n",
    "> Prcomp = prcomp(ASBLNorm[9:38], center = TRUE, scale = TRUE)\n",
    "> plot3d(as.data.frame(Prcomp$x)[,1:3], col=ClCorr$cluster, size=5, type='p', xlim = c(-5,5), ylim=c(-5,5), zlim=c(-5,5))"
   ]
  },
  {
   "cell_type": "code",
   "execution_count": 13,
   "metadata": {},
   "outputs": [
    {
     "ename": "ERROR",
     "evalue": "Error in barplot(ClCorr$centers[1, ], ylab = \"scaled PANSS score\", xlab = \"PANSS Item\", : object 'ClCorr' not found\n",
     "output_type": "error",
     "traceback": [
      "Error in barplot(ClCorr$centers[1, ], ylab = \"scaled PANSS score\", xlab = \"PANSS Item\", : object 'ClCorr' not found\nTraceback:\n",
      "1. barplot(ClCorr$centers[1, ], ylab = \"scaled PANSS score\", xlab = \"PANSS Item\", \n .     main = \"Cluster 1 Characteristics\", col = c(\"red\"), beside = TRUE)"
     ]
    }
   ],
   "source": [
    "barplot(ClCorr$centers[1,], ylab='scaled PANSS score', xlab='PANSS Item', main='Cluster 1 Characteristics', col = c(\"red\"), beside=TRUE)\n",
    "barplot(ClCorr$centers[2,], ylab='scaled PANSS score', xlab='PANSS Item', main='Cluster 2 Characteristics', col = c(\"green\"), beside=TRUE)\n",
    "barplot(ClCorr$centers[3,], ylab='scaled PANSS score', xlab='PANSS Item', main='Cluster 3 Characteristics', col = c(\"blue\"), beside=TRUE)\n",
    "barplot(ClCorr$centers, ylab='scaled PANSS score', xlab='PANSS Item', main='All Cluster Characteristics', col = c(\"red\",\"green\",\"blue\"), beside=TRUE)"
   ]
  },
  {
   "cell_type": "code",
   "execution_count": null,
   "metadata": {},
   "outputs": [],
   "source": []
  }
 ],
 "metadata": {
  "kernelspec": {
   "display_name": "R",
   "language": "R",
   "name": "ir"
  },
  "language_info": {
   "codemirror_mode": "r",
   "file_extension": ".r",
   "mimetype": "text/x-r-source",
   "name": "R",
   "pygments_lexer": "r",
   "version": "3.6.0"
  }
 },
 "nbformat": 4,
 "nbformat_minor": 2
}
