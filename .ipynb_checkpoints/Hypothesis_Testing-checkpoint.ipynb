{
 "cells": [
  {
   "cell_type": "code",
   "execution_count": 40,
   "metadata": {},
   "outputs": [],
   "source": [
    "StudyA = read.csv('./data/Study_A.csv')\n",
    "StudyB = read.csv('./data/Study_B.csv')\n",
    "StudyC = read.csv('./data/Study_C.csv')\n",
    "StudyD = read.csv('./data/Study_D.csv')\n",
    "StudyE = read.csv('./data/Study_E.csv')\n",
    "StudyE$LeadStatus = NA\n",
    "AllStudies = rbind(StudyA, StudyB, StudyC, StudyD, StudyE)\n",
    "AllStudies$Positive <- rowSums(AllStudies[, 9:15])\n",
    "AllStudies$Negative <- rowSums(AllStudies[, 16:22])\n",
    "AllStudies$General <- rowSums(AllStudies[, 23:38])\n",
    "AllStudies$TxGroupDummy = AllStudies$TxGroup == \"Treatment\""
   ]
  },
  {
   "cell_type": "code",
   "execution_count": 42,
   "metadata": {},
   "outputs": [],
   "source": [
    "Hypothesis_Testing <- function(study){\n",
    "    HypTestP <- lm(Positive ~ VisitDay + VisitDay:TxGroupDummy, data = AllStudies, subset = study)\n",
    "    HypTestN <- lm(Negative ~ VisitDay + VisitDay:TxGroupDummy, data = AllStudies, subset = study)\n",
    "    HypTestG <- lm(General ~ VisitDay + VisitDay:TxGroupDummy, data = AllStudies, subset = study)\n",
    "    print(summary(HypTestP))\n",
    "    print(summary(HypTestN))\n",
    "    print(summary(HypTestG))\n",
    "\n",
    "}"
   ]
  },
  {
   "cell_type": "code",
   "execution_count": 31,
   "metadata": {},
   "outputs": [],
   "source": [
    "AllStudies$General <- rowSums(AllStudies[,c(\"G1\", \"G2\", \"G3\", \"G4\", \"G5\", \"G6\", \"G7\",\"G8\", \"G9\", \"G10\", \"G11\", \"G12\", \"G13\", \"G14\", \"G15\", \"G16\")])"
   ]
  },
  {
   "cell_type": "code",
   "execution_count": null,
   "metadata": {},
   "outputs": [],
   "source": []
  }
 ],
 "metadata": {
  "kernelspec": {
   "display_name": "R",
   "language": "R",
   "name": "ir"
  },
  "language_info": {
   "codemirror_mode": "r",
   "file_extension": ".r",
   "mimetype": "text/x-r-source",
   "name": "R",
   "pygments_lexer": "r",
   "version": "3.6.0"
  }
 },
 "nbformat": 4,
 "nbformat_minor": 2
}
