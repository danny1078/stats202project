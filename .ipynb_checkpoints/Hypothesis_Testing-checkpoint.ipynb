{
 "cells": [
  {
   "cell_type": "code",
   "execution_count": 5,
   "metadata": {},
   "outputs": [],
   "source": [
    "StudyA = read.csv('./data/Study_A.csv')\n",
    "StudyB = read.csv('./data/Study_B.csv')\n",
    "StudyC = read.csv('./data/Study_C.csv')\n",
    "StudyD = read.csv('./data/Study_D.csv')\n",
    "StudyE = read.csv('./data/Study_E.csv')\n",
    "StudyE$LeadStatus = NA\n",
    "AllStudies = rbind(StudyA, StudyB, StudyC, StudyD, StudyE)\n",
    "StudyA$TxGroupDummy = StudyA$TxGroup == \"Treatment\"\n",
    "StudyB$TxGroupDummy = StudyB$TxGroup == \"Treatment\"\n",
    "StudyC$TxGroupDummy = StudyC$TxGroup == \"Treatment\"\n",
    "StudyD$TxGroupDummy = StudyD$TxGroup == \"Treatment\"\n",
    "StudyE$TxGroupDummy = StudyE$TxGroup == \"Treatment\""
   ]
  },
  {
   "cell_type": "code",
   "execution_count": 6,
   "metadata": {},
   "outputs": [],
   "source": [
    "HypTestAP1 <- lm(P1 ~ VisitDay + VisitDay:TxGroupDummy, data = StudyA)\n",
    "HypTestAP2 <- lm(P2 ~ VisitDay + VisitDay:TxGroupDummy, data = StudyA)\n",
    "HypTestAP3 <- lm(P3 ~ VisitDay + VisitDay:TxGroupDummy, data = StudyA)\n",
    "HypTestAP4 <- lm(P4 ~ VisitDay + VisitDay:TxGroupDummy, data = StudyA)\n",
    "HypTestAP5 <- lm(P5 ~ VisitDay + VisitDay:TxGroupDummy, data = StudyA)\n",
    "HypTestAP6 <- lm(P6 ~ VisitDay + VisitDay:TxGroupDummy, data = StudyA)\n",
    "HypTestAP7 <- lm(P7 ~ VisitDay + VisitDay:TxGroupDummy, data = StudyA)\n",
    "HypTestAN1 <- lm(N1 ~ VisitDay + VisitDay:TxGroupDummy, data = StudyA)\n",
    "HypTestAN2 <- lm(N2 ~ VisitDay + VisitDay:TxGroupDummy, data = StudyA)\n",
    "HypTestAN3 <- lm(N3 ~ VisitDay + VisitDay:TxGroupDummy, data = StudyA)\n",
    "HypTestAN4 <- lm(N4 ~ VisitDay + VisitDay:TxGroupDummy, data = StudyA)\n",
    "HypTestAN5 <- lm(N5 ~ VisitDay + VisitDay:TxGroupDummy, data = StudyA)\n",
    "HypTestAN6 <- lm(N6 ~ VisitDay + VisitDay:TxGroupDummy, data = StudyA)\n",
    "HypTestAN7 <- lm(N7 ~ VisitDay + VisitDay:TxGroupDummy, data = StudyA)\n",
    "HypTestAG1 <- lm(G1 ~ VisitDay + VisitDay:TxGroupDummy, data = StudyA)\n",
    "HypTestAG2 <- lm(G2 ~ VisitDay + VisitDay:TxGroupDummy, data = StudyA)\n",
    "HypTestAG3 <- lm(G3 ~ VisitDay + VisitDay:TxGroupDummy, data = StudyA)\n",
    "HypTestAG4 <- lm(G4 ~ VisitDay + VisitDay:TxGroupDummy, data = StudyA)\n",
    "HypTestAG5 <- lm(G5 ~ VisitDay + VisitDay:TxGroupDummy, data = StudyA)\n",
    "HypTestAG6 <- lm(G6 ~ VisitDay + VisitDay:TxGroupDummy, data = StudyA)\n",
    "HypTestAG7 <- lm(G7 ~ VisitDay + VisitDay:TxGroupDummy, data = StudyA)\n",
    "HypTestAG8 <- lm(G8 ~ VisitDay + VisitDay:TxGroupDummy, data = StudyA)\n",
    "HypTestAG9 <- lm(G9 ~ VisitDay + VisitDay:TxGroupDummy, data = StudyA)\n",
    "HypTestAG10 <- lm(G10 ~ VisitDay + VisitDay:TxGroupDummy, data = StudyA)\n",
    "HypTestAG11 <- lm(G11 ~ VisitDay + VisitDay:TxGroupDummy, data = StudyA)\n",
    "HypTestAG12 <- lm(G12 ~ VisitDay + VisitDay:TxGroupDummy, data = StudyA)\n",
    "HypTestAG13 <- lm(G13 ~ VisitDay + VisitDay:TxGroupDummy, data = StudyA)\n",
    "HypTestAG14 <- lm(G14 ~ VisitDay + VisitDay:TxGroupDummy, data = StudyA)\n",
    "HypTestAG15 <- lm(G15 ~ VisitDay + VisitDay:TxGroupDummy, data = StudyA)\n",
    "HypTestAG16 <- lm(G16 ~ VisitDay + VisitDay:TxGroupDummy, data = StudyA)\n",
    "HypTestBP1 <- lm(P1 ~ VisitDay + VisitDay:TxGroupDummy, data = StudyB)\n",
    "HypTestBP2 <- lm(P2 ~ VisitDay + VisitDay:TxGroupDummy, data = StudyB)\n",
    "HypTestBP3 <- lm(P3 ~ VisitDay + VisitDay:TxGroupDummy, data = StudyB)\n",
    "HypTestBP4 <- lm(P4 ~ VisitDay + VisitDay:TxGroupDummy, data = StudyB)\n",
    "HypTestBP5 <- lm(P5 ~ VisitDay + VisitDay:TxGroupDummy, data = StudyB)\n",
    "HypTestBP6 <- lm(P6 ~ VisitDay + VisitDay:TxGroupDummy, data = StudyB)\n",
    "HypTestBP7 <- lm(P7 ~ VisitDay + VisitDay:TxGroupDummy, data = StudyB)\n",
    "HypTestBN1 <- lm(N1 ~ VisitDay + VisitDay:TxGroupDummy, data = StudyB)\n",
    "HypTestBN2 <- lm(N2 ~ VisitDay + VisitDay:TxGroupDummy, data = StudyB)\n",
    "HypTestBN3 <- lm(N3 ~ VisitDay + VisitDay:TxGroupDummy, data = StudyB)\n",
    "HypTestBN4 <- lm(N4 ~ VisitDay + VisitDay:TxGroupDummy, data = StudyB)\n",
    "HypTestBN5 <- lm(N5 ~ VisitDay + VisitDay:TxGroupDummy, data = StudyB)\n",
    "HypTestBN6 <- lm(N6 ~ VisitDay + VisitDay:TxGroupDummy, data = StudyB)\n",
    "HypTestBN7 <- lm(N7 ~ VisitDay + VisitDay:TxGroupDummy, data = StudyB)\n",
    "HypTestBG1 <- lm(G1 ~ VisitDay + VisitDay:TxGroupDummy, data = StudyB)\n",
    "HypTestBG2 <- lm(G2 ~ VisitDay + VisitDay:TxGroupDummy, data = StudyB)\n",
    "HypTestBG3 <- lm(G3 ~ VisitDay + VisitDay:TxGroupDummy, data = StudyB)\n",
    "HypTestBG4 <- lm(G4 ~ VisitDay + VisitDay:TxGroupDummy, data = StudyB)\n",
    "HypTestBG5 <- lm(G5 ~ VisitDay + VisitDay:TxGroupDummy, data = StudyB)\n",
    "HypTestBG6 <- lm(G6 ~ VisitDay + VisitDay:TxGroupDummy, data = StudyB)\n",
    "HypTestBG7 <- lm(G7 ~ VisitDay + VisitDay:TxGroupDummy, data = StudyB)\n",
    "HypTestBG8 <- lm(G8 ~ VisitDay + VisitDay:TxGroupDummy, data = StudyB)\n",
    "HypTestBG9 <- lm(G9 ~ VisitDay + VisitDay:TxGroupDummy, data = StudyB)\n",
    "HypTestBG10 <- lm(G10 ~ VisitDay + VisitDay:TxGroupDummy, data = StudyB)\n",
    "HypTestBG11 <- lm(G11 ~ VisitDay + VisitDay:TxGroupDummy, data = StudyB)\n",
    "HypTestBG12 <- lm(G12 ~ VisitDay + VisitDay:TxGroupDummy, data = StudyB)\n",
    "HypTestBG13 <- lm(G13 ~ VisitDay + VisitDay:TxGroupDummy, data = StudyB)\n",
    "HypTestBG14 <- lm(G14 ~ VisitDay + VisitDay:TxGroupDummy, data = StudyB)\n",
    "HypTestBG15 <- lm(G15 ~ VisitDay + VisitDay:TxGroupDummy, data = StudyB)\n",
    "HypTestBG16 <- lm(G16 ~ VisitDay + VisitDay:TxGroupDummy, data = StudyB)\n",
    "HypTestCP1 <- lm(P1 ~ VisitDay + VisitDay:TxGroupDummy, data = StudyC)\n",
    "HypTestCP2 <- lm(P2 ~ VisitDay + VisitDay:TxGroupDummy, data = StudyC)\n",
    "HypTestCP3 <- lm(P3 ~ VisitDay + VisitDay:TxGroupDummy, data = StudyC)\n",
    "HypTestCP4 <- lm(P4 ~ VisitDay + VisitDay:TxGroupDummy, data = StudyC)\n",
    "HypTestCP5 <- lm(P5 ~ VisitDay + VisitDay:TxGroupDummy, data = StudyC)\n",
    "HypTestCP6 <- lm(P6 ~ VisitDay + VisitDay:TxGroupDummy, data = StudyC)\n",
    "HypTestCP7 <- lm(P7 ~ VisitDay + VisitDay:TxGroupDummy, data = StudyC)\n",
    "HypTestCN1 <- lm(N1 ~ VisitDay + VisitDay:TxGroupDummy, data = StudyC)\n",
    "HypTestCN2 <- lm(N2 ~ VisitDay + VisitDay:TxGroupDummy, data = StudyC)\n",
    "HypTestCN3 <- lm(N3 ~ VisitDay + VisitDay:TxGroupDummy, data = StudyC)\n",
    "HypTestCN4 <- lm(N4 ~ VisitDay + VisitDay:TxGroupDummy, data = StudyC)\n",
    "HypTestCN5 <- lm(N5 ~ VisitDay + VisitDay:TxGroupDummy, data = StudyC)\n",
    "HypTestCN6 <- lm(N6 ~ VisitDay + VisitDay:TxGroupDummy, data = StudyC)\n",
    "HypTestCN7 <- lm(N7 ~ VisitDay + VisitDay:TxGroupDummy, data = StudyC)\n",
    "HypTestCG1 <- lm(G1 ~ VisitDay + VisitDay:TxGroupDummy, data = StudyC)\n",
    "HypTestCG2 <- lm(G2 ~ VisitDay + VisitDay:TxGroupDummy, data = StudyC)\n",
    "HypTestCG3 <- lm(G3 ~ VisitDay + VisitDay:TxGroupDummy, data = StudyC)\n",
    "HypTestCG4 <- lm(G4 ~ VisitDay + VisitDay:TxGroupDummy, data = StudyC)\n",
    "HypTestCG5 <- lm(G5 ~ VisitDay + VisitDay:TxGroupDummy, data = StudyC)\n",
    "HypTestCG6 <- lm(G6 ~ VisitDay + VisitDay:TxGroupDummy, data = StudyC)\n",
    "HypTestCG7 <- lm(G7 ~ VisitDay + VisitDay:TxGroupDummy, data = StudyC)\n",
    "HypTestCG8 <- lm(G8 ~ VisitDay + VisitDay:TxGroupDummy, data = StudyC)\n",
    "HypTestCG9 <- lm(G9 ~ VisitDay + VisitDay:TxGroupDummy, data = StudyC)\n",
    "HypTestCG10 <- lm(G10 ~ VisitDay + VisitDay:TxGroupDummy, data = StudyC)\n",
    "HypTestCG11 <- lm(G11 ~ VisitDay + VisitDay:TxGroupDummy, data = StudyC)\n",
    "HypTestCG12 <- lm(G12 ~ VisitDay + VisitDay:TxGroupDummy, data = StudyC)\n",
    "HypTestCG13 <- lm(G13 ~ VisitDay + VisitDay:TxGroupDummy, data = StudyC)\n",
    "HypTestCG14 <- lm(G14 ~ VisitDay + VisitDay:TxGroupDummy, data = StudyC)\n",
    "HypTestCG15 <- lm(G15 ~ VisitDay + VisitDay:TxGroupDummy, data = StudyC)\n",
    "HypTestCG16 <- lm(G16 ~ VisitDay + VisitDay:TxGroupDummy, data = StudyC)\n",
    "HypTestDP1 <- lm(P1 ~ VisitDay + VisitDay:TxGroupDummy, data = StudyD)\n",
    "HypTestDP2 <- lm(P2 ~ VisitDay + VisitDay:TxGroupDummy, data = StudyD)\n",
    "HypTestDP3 <- lm(P3 ~ VisitDay + VisitDay:TxGroupDummy, data = StudyD)\n",
    "HypTestDP4 <- lm(P4 ~ VisitDay + VisitDay:TxGroupDummy, data = StudyD)\n",
    "HypTestDP5 <- lm(P5 ~ VisitDay + VisitDay:TxGroupDummy, data = StudyD)\n",
    "HypTestDP6 <- lm(P6 ~ VisitDay + VisitDay:TxGroupDummy, data = StudyD)\n",
    "HypTestDP7 <- lm(P7 ~ VisitDay + VisitDay:TxGroupDummy, data = StudyD)\n",
    "HypTestDN1 <- lm(N1 ~ VisitDay + VisitDay:TxGroupDummy, data = StudyD)\n",
    "HypTestDN2 <- lm(N2 ~ VisitDay + VisitDay:TxGroupDummy, data = StudyD)\n",
    "HypTestDN3 <- lm(N3 ~ VisitDay + VisitDay:TxGroupDummy, data = StudyD)\n",
    "HypTestDN4 <- lm(N4 ~ VisitDay + VisitDay:TxGroupDummy, data = StudyD)\n",
    "HypTestDN5 <- lm(N5 ~ VisitDay + VisitDay:TxGroupDummy, data = StudyD)\n",
    "HypTestDN6 <- lm(N6 ~ VisitDay + VisitDay:TxGroupDummy, data = StudyD)\n",
    "HypTestDN7 <- lm(N7 ~ VisitDay + VisitDay:TxGroupDummy, data = StudyD)\n",
    "HypTestDG1 <- lm(G1 ~ VisitDay + VisitDay:TxGroupDummy, data = StudyD)\n",
    "HypTestDG2 <- lm(G2 ~ VisitDay + VisitDay:TxGroupDummy, data = StudyD)\n",
    "HypTestDG3 <- lm(G3 ~ VisitDay + VisitDay:TxGroupDummy, data = StudyD)\n",
    "HypTestDG4 <- lm(G4 ~ VisitDay + VisitDay:TxGroupDummy, data = StudyD)\n",
    "HypTestDG5 <- lm(G5 ~ VisitDay + VisitDay:TxGroupDummy, data = StudyD)\n",
    "HypTestDG6 <- lm(G6 ~ VisitDay + VisitDay:TxGroupDummy, data = StudyD)\n",
    "HypTestDG7 <- lm(G7 ~ VisitDay + VisitDay:TxGroupDummy, data = StudyD)\n",
    "HypTestDG8 <- lm(G8 ~ VisitDay + VisitDay:TxGroupDummy, data = StudyD)\n",
    "HypTestDG9 <- lm(G9 ~ VisitDay + VisitDay:TxGroupDummy, data = StudyD)\n",
    "HypTestDG10 <- lm(G10 ~ VisitDay + VisitDay:TxGroupDummy, data = StudyD)\n",
    "HypTestDG11 <- lm(G11 ~ VisitDay + VisitDay:TxGroupDummy, data = StudyD)\n",
    "HypTestDG12 <- lm(G12 ~ VisitDay + VisitDay:TxGroupDummy, data = StudyD)\n",
    "HypTestDG13 <- lm(G13 ~ VisitDay + VisitDay:TxGroupDummy, data = StudyD)\n",
    "HypTestDG14 <- lm(G14 ~ VisitDay + VisitDay:TxGroupDummy, data = StudyD)\n",
    "HypTestDG15 <- lm(G15 ~ VisitDay + VisitDay:TxGroupDummy, data = StudyD)\n",
    "HypTestDG16 <- lm(G16 ~ VisitDay + VisitDay:TxGroupDummy, data = StudyD)\n",
    "HypTestEP1 <- lm(P1 ~ VisitDay + VisitDay:TxGroupDummy, data = StudyE)\n",
    "HypTestEP2 <- lm(P2 ~ VisitDay + VisitDay:TxGroupDummy, data = StudyE)\n",
    "HypTestEP3 <- lm(P3 ~ VisitDay + VisitDay:TxGroupDummy, data = StudyE)\n",
    "HypTestEP4 <- lm(P4 ~ VisitDay + VisitDay:TxGroupDummy, data = StudyE)\n",
    "HypTestEP5 <- lm(P5 ~ VisitDay + VisitDay:TxGroupDummy, data = StudyE)\n",
    "HypTestEP6 <- lm(P6 ~ VisitDay + VisitDay:TxGroupDummy, data = StudyE)\n",
    "HypTestEP7 <- lm(P7 ~ VisitDay + VisitDay:TxGroupDummy, data = StudyE)\n",
    "HypTestEN1 <- lm(N1 ~ VisitDay + VisitDay:TxGroupDummy, data = StudyE)\n",
    "HypTestEN2 <- lm(N2 ~ VisitDay + VisitDay:TxGroupDummy, data = StudyE)\n",
    "HypTestEN3 <- lm(N3 ~ VisitDay + VisitDay:TxGroupDummy, data = StudyE)\n",
    "HypTestEN4 <- lm(N4 ~ VisitDay + VisitDay:TxGroupDummy, data = StudyE)\n",
    "HypTestEN5 <- lm(N5 ~ VisitDay + VisitDay:TxGroupDummy, data = StudyE)\n",
    "HypTestEN6 <- lm(N6 ~ VisitDay + VisitDay:TxGroupDummy, data = StudyE)\n",
    "HypTestEN7 <- lm(N7 ~ VisitDay + VisitDay:TxGroupDummy, data = StudyE)\n",
    "HypTestEG1 <- lm(G1 ~ VisitDay + VisitDay:TxGroupDummy, data = StudyE)\n",
    "HypTestEG2 <- lm(G2 ~ VisitDay + VisitDay:TxGroupDummy, data = StudyE)\n",
    "HypTestEG3 <- lm(G3 ~ VisitDay + VisitDay:TxGroupDummy, data = StudyE)\n",
    "HypTestEG4 <- lm(G4 ~ VisitDay + VisitDay:TxGroupDummy, data = StudyE)\n",
    "HypTestEG5 <- lm(G5 ~ VisitDay + VisitDay:TxGroupDummy, data = StudyE)\n",
    "HypTestEG6 <- lm(G6 ~ VisitDay + VisitDay:TxGroupDummy, data = StudyE)\n",
    "HypTestEG7 <- lm(G7 ~ VisitDay + VisitDay:TxGroupDummy, data = StudyE)\n",
    "HypTestEG8 <- lm(G8 ~ VisitDay + VisitDay:TxGroupDummy, data = StudyE)\n",
    "HypTestEG9 <- lm(G9 ~ VisitDay + VisitDay:TxGroupDummy, data = StudyE)\n",
    "HypTestEG10 <- lm(G10 ~ VisitDay + VisitDay:TxGroupDummy, data = StudyE)\n",
    "HypTestEG11 <- lm(G11 ~ VisitDay + VisitDay:TxGroupDummy, data = StudyE)\n",
    "HypTestEG12 <- lm(G12 ~ VisitDay + VisitDay:TxGroupDummy, data = StudyE)\n",
    "HypTestEG13 <- lm(G13 ~ VisitDay + VisitDay:TxGroupDummy, data = StudyE)\n",
    "HypTestEG14 <- lm(G14 ~ VisitDay + VisitDay:TxGroupDummy, data = StudyE)\n",
    "HypTestEG15 <- lm(G15 ~ VisitDay + VisitDay:TxGroupDummy, data = StudyE)\n",
    "HypTestEG16 <- lm(G16 ~ VisitDay + VisitDay:TxGroupDummy, data = StudyE)\n",
    "\n",
    "lmp <- function (modelobject) {\n",
    "    if (class(modelobject) != \"lm\") stop(\"Not an object of class 'lm' \")\n",
    "    f <- summary(modelobject)$fstatistic\n",
    "    p <- pf(f[1],f[2],f[3],lower.tail=F)\n",
    "    attributes(p) <- NULL\n",
    "    return(p)\n",
    "    #https://www.gettinggeneticsdone.com/2011/01/rstats-function-for-extracting-f-test-p.html\n",
    "}"
   ]
  },
  {
   "cell_type": "code",
   "execution_count": 7,
   "metadata": {},
   "outputs": [
    {
     "data": {
      "text/html": [
       "0.268544234817744"
      ],
      "text/latex": [
       "0.268544234817744"
      ],
      "text/markdown": [
       "0.268544234817744"
      ],
      "text/plain": [
       "[1] 0.2685442"
      ]
     },
     "metadata": {},
     "output_type": "display_data"
    },
    {
     "data": {
      "text/html": [
       "8.03905323406441e-06"
      ],
      "text/latex": [
       "8.03905323406441e-06"
      ],
      "text/markdown": [
       "8.03905323406441e-06"
      ],
      "text/plain": [
       "[1] 8.039053e-06"
      ]
     },
     "metadata": {},
     "output_type": "display_data"
    },
    {
     "data": {
      "text/html": [
       "1.19968996899354e-05"
      ],
      "text/latex": [
       "1.19968996899354e-05"
      ],
      "text/markdown": [
       "1.19968996899354e-05"
      ],
      "text/plain": [
       "[1] 1.19969e-05"
      ]
     },
     "metadata": {},
     "output_type": "display_data"
    },
    {
     "data": {
      "text/html": [
       "0.130201743033475"
      ],
      "text/latex": [
       "0.130201743033475"
      ],
      "text/markdown": [
       "0.130201743033475"
      ],
      "text/plain": [
       "[1] 0.1302017"
      ]
     },
     "metadata": {},
     "output_type": "display_data"
    },
    {
     "data": {
      "text/html": [
       "0.0020308189327309"
      ],
      "text/latex": [
       "0.0020308189327309"
      ],
      "text/markdown": [
       "0.0020308189327309"
      ],
      "text/plain": [
       "[1] 0.002030819"
      ]
     },
     "metadata": {},
     "output_type": "display_data"
    },
    {
     "data": {
      "text/html": [
       "0.730051175964908"
      ],
      "text/latex": [
       "0.730051175964908"
      ],
      "text/markdown": [
       "0.730051175964908"
      ],
      "text/plain": [
       "[1] 0.7300512"
      ]
     },
     "metadata": {},
     "output_type": "display_data"
    },
    {
     "data": {
      "text/html": [
       "0.202468507250776"
      ],
      "text/latex": [
       "0.202468507250776"
      ],
      "text/markdown": [
       "0.202468507250776"
      ],
      "text/plain": [
       "[1] 0.2024685"
      ]
     },
     "metadata": {},
     "output_type": "display_data"
    },
    {
     "data": {
      "text/html": [
       "0.0560347362602943"
      ],
      "text/latex": [
       "0.0560347362602943"
      ],
      "text/markdown": [
       "0.0560347362602943"
      ],
      "text/plain": [
       "[1] 0.05603474"
      ]
     },
     "metadata": {},
     "output_type": "display_data"
    },
    {
     "data": {
      "text/html": [
       "0.228710531699296"
      ],
      "text/latex": [
       "0.228710531699296"
      ],
      "text/markdown": [
       "0.228710531699296"
      ],
      "text/plain": [
       "[1] 0.2287105"
      ]
     },
     "metadata": {},
     "output_type": "display_data"
    },
    {
     "data": {
      "text/html": [
       "0.613396192361134"
      ],
      "text/latex": [
       "0.613396192361134"
      ],
      "text/markdown": [
       "0.613396192361134"
      ],
      "text/plain": [
       "[1] 0.6133962"
      ]
     },
     "metadata": {},
     "output_type": "display_data"
    },
    {
     "data": {
      "text/html": [
       "0.00744074542432465"
      ],
      "text/latex": [
       "0.00744074542432465"
      ],
      "text/markdown": [
       "0.00744074542432465"
      ],
      "text/plain": [
       "[1] 0.007440745"
      ]
     },
     "metadata": {},
     "output_type": "display_data"
    },
    {
     "data": {
      "text/html": [
       "0.147081126842303"
      ],
      "text/latex": [
       "0.147081126842303"
      ],
      "text/markdown": [
       "0.147081126842303"
      ],
      "text/plain": [
       "[1] 0.1470811"
      ]
     },
     "metadata": {},
     "output_type": "display_data"
    },
    {
     "data": {
      "text/html": [
       "0.102447841194007"
      ],
      "text/latex": [
       "0.102447841194007"
      ],
      "text/markdown": [
       "0.102447841194007"
      ],
      "text/plain": [
       "[1] 0.1024478"
      ]
     },
     "metadata": {},
     "output_type": "display_data"
    },
    {
     "data": {
      "text/html": [
       "0.146638185092989"
      ],
      "text/latex": [
       "0.146638185092989"
      ],
      "text/markdown": [
       "0.146638185092989"
      ],
      "text/plain": [
       "[1] 0.1466382"
      ]
     },
     "metadata": {},
     "output_type": "display_data"
    },
    {
     "data": {
      "text/html": [
       "0.225508301992863"
      ],
      "text/latex": [
       "0.225508301992863"
      ],
      "text/markdown": [
       "0.225508301992863"
      ],
      "text/plain": [
       "[1] 0.2255083"
      ]
     },
     "metadata": {},
     "output_type": "display_data"
    },
    {
     "data": {
      "text/html": [
       "0.915170893339751"
      ],
      "text/latex": [
       "0.915170893339751"
      ],
      "text/markdown": [
       "0.915170893339751"
      ],
      "text/plain": [
       "[1] 0.9151709"
      ]
     },
     "metadata": {},
     "output_type": "display_data"
    },
    {
     "data": {
      "text/html": [
       "7.24510727337805e-05"
      ],
      "text/latex": [
       "7.24510727337805e-05"
      ],
      "text/markdown": [
       "7.24510727337805e-05"
      ],
      "text/plain": [
       "[1] 7.245107e-05"
      ]
     },
     "metadata": {},
     "output_type": "display_data"
    },
    {
     "data": {
      "text/html": [
       "0.194322710914185"
      ],
      "text/latex": [
       "0.194322710914185"
      ],
      "text/markdown": [
       "0.194322710914185"
      ],
      "text/plain": [
       "[1] 0.1943227"
      ]
     },
     "metadata": {},
     "output_type": "display_data"
    },
    {
     "data": {
      "text/html": [
       "0.968845450012854"
      ],
      "text/latex": [
       "0.968845450012854"
      ],
      "text/markdown": [
       "0.968845450012854"
      ],
      "text/plain": [
       "[1] 0.9688455"
      ]
     },
     "metadata": {},
     "output_type": "display_data"
    },
    {
     "data": {
      "text/html": [
       "0.0167019451970481"
      ],
      "text/latex": [
       "0.0167019451970481"
      ],
      "text/markdown": [
       "0.0167019451970481"
      ],
      "text/plain": [
       "[1] 0.01670195"
      ]
     },
     "metadata": {},
     "output_type": "display_data"
    },
    {
     "data": {
      "text/html": [
       "0.631731460631667"
      ],
      "text/latex": [
       "0.631731460631667"
      ],
      "text/markdown": [
       "0.631731460631667"
      ],
      "text/plain": [
       "[1] 0.6317315"
      ]
     },
     "metadata": {},
     "output_type": "display_data"
    },
    {
     "data": {
      "text/html": [
       "0.934725970653996"
      ],
      "text/latex": [
       "0.934725970653996"
      ],
      "text/markdown": [
       "0.934725970653996"
      ],
      "text/plain": [
       "[1] 0.934726"
      ]
     },
     "metadata": {},
     "output_type": "display_data"
    },
    {
     "data": {
      "text/html": [
       "0.000998977911740802"
      ],
      "text/latex": [
       "0.000998977911740802"
      ],
      "text/markdown": [
       "0.000998977911740802"
      ],
      "text/plain": [
       "[1] 0.0009989779"
      ]
     },
     "metadata": {},
     "output_type": "display_data"
    },
    {
     "data": {
      "text/html": [
       "0.790362865056614"
      ],
      "text/latex": [
       "0.790362865056614"
      ],
      "text/markdown": [
       "0.790362865056614"
      ],
      "text/plain": [
       "[1] 0.7903629"
      ]
     },
     "metadata": {},
     "output_type": "display_data"
    },
    {
     "data": {
      "text/html": [
       "0.0687961375749992"
      ],
      "text/latex": [
       "0.0687961375749992"
      ],
      "text/markdown": [
       "0.0687961375749992"
      ],
      "text/plain": [
       "[1] 0.06879614"
      ]
     },
     "metadata": {},
     "output_type": "display_data"
    },
    {
     "data": {
      "text/html": [
       "0.157873869700372"
      ],
      "text/latex": [
       "0.157873869700372"
      ],
      "text/markdown": [
       "0.157873869700372"
      ],
      "text/plain": [
       "[1] 0.1578739"
      ]
     },
     "metadata": {},
     "output_type": "display_data"
    },
    {
     "data": {
      "text/html": [
       "0.242949012627612"
      ],
      "text/latex": [
       "0.242949012627612"
      ],
      "text/markdown": [
       "0.242949012627612"
      ],
      "text/plain": [
       "[1] 0.242949"
      ]
     },
     "metadata": {},
     "output_type": "display_data"
    },
    {
     "data": {
      "text/html": [
       "0.0269811002014233"
      ],
      "text/latex": [
       "0.0269811002014233"
      ],
      "text/markdown": [
       "0.0269811002014233"
      ],
      "text/plain": [
       "[1] 0.0269811"
      ]
     },
     "metadata": {},
     "output_type": "display_data"
    },
    {
     "data": {
      "text/html": [
       "0.057540606496485"
      ],
      "text/latex": [
       "0.057540606496485"
      ],
      "text/markdown": [
       "0.057540606496485"
      ],
      "text/plain": [
       "[1] 0.05754061"
      ]
     },
     "metadata": {},
     "output_type": "display_data"
    },
    {
     "data": {
      "text/html": [
       "0.142795753380997"
      ],
      "text/latex": [
       "0.142795753380997"
      ],
      "text/markdown": [
       "0.142795753380997"
      ],
      "text/plain": [
       "[1] 0.1427958"
      ]
     },
     "metadata": {},
     "output_type": "display_data"
    },
    {
     "data": {
      "text/html": [
       "0.180851679017597"
      ],
      "text/latex": [
       "0.180851679017597"
      ],
      "text/markdown": [
       "0.180851679017597"
      ],
      "text/plain": [
       "[1] 0.1808517"
      ]
     },
     "metadata": {},
     "output_type": "display_data"
    },
    {
     "data": {
      "text/html": [
       "0.0293648330363334"
      ],
      "text/latex": [
       "0.0293648330363334"
      ],
      "text/markdown": [
       "0.0293648330363334"
      ],
      "text/plain": [
       "[1] 0.02936483"
      ]
     },
     "metadata": {},
     "output_type": "display_data"
    },
    {
     "data": {
      "text/html": [
       "0.0618683607442858"
      ],
      "text/latex": [
       "0.0618683607442858"
      ],
      "text/markdown": [
       "0.0618683607442858"
      ],
      "text/plain": [
       "[1] 0.06186836"
      ]
     },
     "metadata": {},
     "output_type": "display_data"
    },
    {
     "data": {
      "text/html": [
       "0.711681550432167"
      ],
      "text/latex": [
       "0.711681550432167"
      ],
      "text/markdown": [
       "0.711681550432167"
      ],
      "text/plain": [
       "[1] 0.7116816"
      ]
     },
     "metadata": {},
     "output_type": "display_data"
    },
    {
     "data": {
      "text/html": [
       "0.540921757148189"
      ],
      "text/latex": [
       "0.540921757148189"
      ],
      "text/markdown": [
       "0.540921757148189"
      ],
      "text/plain": [
       "[1] 0.5409218"
      ]
     },
     "metadata": {},
     "output_type": "display_data"
    },
    {
     "data": {
      "text/html": [
       "0.00342513180024175"
      ],
      "text/latex": [
       "0.00342513180024175"
      ],
      "text/markdown": [
       "0.00342513180024175"
      ],
      "text/plain": [
       "[1] 0.003425132"
      ]
     },
     "metadata": {},
     "output_type": "display_data"
    },
    {
     "data": {
      "text/html": [
       "0.190499391209312"
      ],
      "text/latex": [
       "0.190499391209312"
      ],
      "text/markdown": [
       "0.190499391209312"
      ],
      "text/plain": [
       "[1] 0.1904994"
      ]
     },
     "metadata": {},
     "output_type": "display_data"
    },
    {
     "data": {
      "text/html": [
       "0.0921304552862924"
      ],
      "text/latex": [
       "0.0921304552862924"
      ],
      "text/markdown": [
       "0.0921304552862924"
      ],
      "text/plain": [
       "[1] 0.09213046"
      ]
     },
     "metadata": {},
     "output_type": "display_data"
    },
    {
     "data": {
      "text/html": [
       "0.0718892356113758"
      ],
      "text/latex": [
       "0.0718892356113758"
      ],
      "text/markdown": [
       "0.0718892356113758"
      ],
      "text/plain": [
       "[1] 0.07188924"
      ]
     },
     "metadata": {},
     "output_type": "display_data"
    },
    {
     "data": {
      "text/html": [
       "0.293165080503445"
      ],
      "text/latex": [
       "0.293165080503445"
      ],
      "text/markdown": [
       "0.293165080503445"
      ],
      "text/plain": [
       "[1] 0.2931651"
      ]
     },
     "metadata": {},
     "output_type": "display_data"
    },
    {
     "data": {
      "text/html": [
       "0.999962238074134"
      ],
      "text/latex": [
       "0.999962238074134"
      ],
      "text/markdown": [
       "0.999962238074134"
      ],
      "text/plain": [
       "[1] 0.9999622"
      ]
     },
     "metadata": {},
     "output_type": "display_data"
    },
    {
     "data": {
      "text/html": [
       "0.0117441795263047"
      ],
      "text/latex": [
       "0.0117441795263047"
      ],
      "text/markdown": [
       "0.0117441795263047"
      ],
      "text/plain": [
       "[1] 0.01174418"
      ]
     },
     "metadata": {},
     "output_type": "display_data"
    },
    {
     "data": {
      "text/html": [
       "0.282792620238075"
      ],
      "text/latex": [
       "0.282792620238075"
      ],
      "text/markdown": [
       "0.282792620238075"
      ],
      "text/plain": [
       "[1] 0.2827926"
      ]
     },
     "metadata": {},
     "output_type": "display_data"
    },
    {
     "data": {
      "text/html": [
       "0.0574208900087371"
      ],
      "text/latex": [
       "0.0574208900087371"
      ],
      "text/markdown": [
       "0.0574208900087371"
      ],
      "text/plain": [
       "[1] 0.05742089"
      ]
     },
     "metadata": {},
     "output_type": "display_data"
    },
    {
     "data": {
      "text/html": [
       "0.295921807614955"
      ],
      "text/latex": [
       "0.295921807614955"
      ],
      "text/markdown": [
       "0.295921807614955"
      ],
      "text/plain": [
       "[1] 0.2959218"
      ]
     },
     "metadata": {},
     "output_type": "display_data"
    },
    {
     "data": {
      "text/html": [
       "0.000270009459045415"
      ],
      "text/latex": [
       "0.000270009459045415"
      ],
      "text/markdown": [
       "0.000270009459045415"
      ],
      "text/plain": [
       "[1] 0.0002700095"
      ]
     },
     "metadata": {},
     "output_type": "display_data"
    },
    {
     "data": {
      "text/html": [
       "0.414105614521008"
      ],
      "text/latex": [
       "0.414105614521008"
      ],
      "text/markdown": [
       "0.414105614521008"
      ],
      "text/plain": [
       "[1] 0.4141056"
      ]
     },
     "metadata": {},
     "output_type": "display_data"
    },
    {
     "data": {
      "text/html": [
       "0.875433356293712"
      ],
      "text/latex": [
       "0.875433356293712"
      ],
      "text/markdown": [
       "0.875433356293712"
      ],
      "text/plain": [
       "[1] 0.8754334"
      ]
     },
     "metadata": {},
     "output_type": "display_data"
    },
    {
     "data": {
      "text/html": [
       "0.021914674919448"
      ],
      "text/latex": [
       "0.021914674919448"
      ],
      "text/markdown": [
       "0.021914674919448"
      ],
      "text/plain": [
       "[1] 0.02191467"
      ]
     },
     "metadata": {},
     "output_type": "display_data"
    },
    {
     "data": {
      "text/html": [
       "0.0486220886492725"
      ],
      "text/latex": [
       "0.0486220886492725"
      ],
      "text/markdown": [
       "0.0486220886492725"
      ],
      "text/plain": [
       "[1] 0.04862209"
      ]
     },
     "metadata": {},
     "output_type": "display_data"
    },
    {
     "data": {
      "text/html": [
       "0.018467023394895"
      ],
      "text/latex": [
       "0.018467023394895"
      ],
      "text/markdown": [
       "0.018467023394895"
      ],
      "text/plain": [
       "[1] 0.01846702"
      ]
     },
     "metadata": {},
     "output_type": "display_data"
    },
    {
     "data": {
      "text/html": [
       "0.630969119062353"
      ],
      "text/latex": [
       "0.630969119062353"
      ],
      "text/markdown": [
       "0.630969119062353"
      ],
      "text/plain": [
       "[1] 0.6309691"
      ]
     },
     "metadata": {},
     "output_type": "display_data"
    },
    {
     "data": {
      "text/html": [
       "0.789322054150221"
      ],
      "text/latex": [
       "0.789322054150221"
      ],
      "text/markdown": [
       "0.789322054150221"
      ],
      "text/plain": [
       "[1] 0.7893221"
      ]
     },
     "metadata": {},
     "output_type": "display_data"
    },
    {
     "data": {
      "text/html": [
       "0.493915054480813"
      ],
      "text/latex": [
       "0.493915054480813"
      ],
      "text/markdown": [
       "0.493915054480813"
      ],
      "text/plain": [
       "[1] 0.4939151"
      ]
     },
     "metadata": {},
     "output_type": "display_data"
    },
    {
     "data": {
      "text/html": [
       "0.329022169691305"
      ],
      "text/latex": [
       "0.329022169691305"
      ],
      "text/markdown": [
       "0.329022169691305"
      ],
      "text/plain": [
       "[1] 0.3290222"
      ]
     },
     "metadata": {},
     "output_type": "display_data"
    },
    {
     "data": {
      "text/html": [
       "0.00202470064953687"
      ],
      "text/latex": [
       "0.00202470064953687"
      ],
      "text/markdown": [
       "0.00202470064953687"
      ],
      "text/plain": [
       "[1] 0.002024701"
      ]
     },
     "metadata": {},
     "output_type": "display_data"
    },
    {
     "data": {
      "text/html": [
       "0.109115619112579"
      ],
      "text/latex": [
       "0.109115619112579"
      ],
      "text/markdown": [
       "0.109115619112579"
      ],
      "text/plain": [
       "[1] 0.1091156"
      ]
     },
     "metadata": {},
     "output_type": "display_data"
    },
    {
     "data": {
      "text/html": [
       "0.0372765269016061"
      ],
      "text/latex": [
       "0.0372765269016061"
      ],
      "text/markdown": [
       "0.0372765269016061"
      ],
      "text/plain": [
       "[1] 0.03727653"
      ]
     },
     "metadata": {},
     "output_type": "display_data"
    },
    {
     "data": {
      "text/html": [
       "0.023220753650446"
      ],
      "text/latex": [
       "0.023220753650446"
      ],
      "text/markdown": [
       "0.023220753650446"
      ],
      "text/plain": [
       "[1] 0.02322075"
      ]
     },
     "metadata": {},
     "output_type": "display_data"
    },
    {
     "data": {
      "text/html": [
       "0.869643472103269"
      ],
      "text/latex": [
       "0.869643472103269"
      ],
      "text/markdown": [
       "0.869643472103269"
      ],
      "text/plain": [
       "[1] 0.8696435"
      ]
     },
     "metadata": {},
     "output_type": "display_data"
    },
    {
     "data": {
      "text/html": [
       "0.871911266728934"
      ],
      "text/latex": [
       "0.871911266728934"
      ],
      "text/markdown": [
       "0.871911266728934"
      ],
      "text/plain": [
       "[1] 0.8719113"
      ]
     },
     "metadata": {},
     "output_type": "display_data"
    },
    {
     "data": {
      "text/html": [
       "0.0819013586977584"
      ],
      "text/latex": [
       "0.0819013586977584"
      ],
      "text/markdown": [
       "0.0819013586977584"
      ],
      "text/plain": [
       "[1] 0.08190136"
      ]
     },
     "metadata": {},
     "output_type": "display_data"
    },
    {
     "data": {
      "text/html": [
       "0.0859350744872378"
      ],
      "text/latex": [
       "0.0859350744872378"
      ],
      "text/markdown": [
       "0.0859350744872378"
      ],
      "text/plain": [
       "[1] 0.08593507"
      ]
     },
     "metadata": {},
     "output_type": "display_data"
    },
    {
     "data": {
      "text/html": [
       "0.773256713181355"
      ],
      "text/latex": [
       "0.773256713181355"
      ],
      "text/markdown": [
       "0.773256713181355"
      ],
      "text/plain": [
       "[1] 0.7732567"
      ]
     },
     "metadata": {},
     "output_type": "display_data"
    },
    {
     "data": {
      "text/html": [
       "0.745972101075579"
      ],
      "text/latex": [
       "0.745972101075579"
      ],
      "text/markdown": [
       "0.745972101075579"
      ],
      "text/plain": [
       "[1] 0.7459721"
      ]
     },
     "metadata": {},
     "output_type": "display_data"
    },
    {
     "data": {
      "text/html": [
       "0.02109334701123"
      ],
      "text/latex": [
       "0.02109334701123"
      ],
      "text/markdown": [
       "0.02109334701123"
      ],
      "text/plain": [
       "[1] 0.02109335"
      ]
     },
     "metadata": {},
     "output_type": "display_data"
    },
    {
     "data": {
      "text/html": [
       "0.0249457477706508"
      ],
      "text/latex": [
       "0.0249457477706508"
      ],
      "text/markdown": [
       "0.0249457477706508"
      ],
      "text/plain": [
       "[1] 0.02494575"
      ]
     },
     "metadata": {},
     "output_type": "display_data"
    },
    {
     "data": {
      "text/html": [
       "0.0215388654213341"
      ],
      "text/latex": [
       "0.0215388654213341"
      ],
      "text/markdown": [
       "0.0215388654213341"
      ],
      "text/plain": [
       "[1] 0.02153887"
      ]
     },
     "metadata": {},
     "output_type": "display_data"
    },
    {
     "data": {
      "text/html": [
       "0.145663592702593"
      ],
      "text/latex": [
       "0.145663592702593"
      ],
      "text/markdown": [
       "0.145663592702593"
      ],
      "text/plain": [
       "[1] 0.1456636"
      ]
     },
     "metadata": {},
     "output_type": "display_data"
    },
    {
     "data": {
      "text/html": [
       "0.424044219731655"
      ],
      "text/latex": [
       "0.424044219731655"
      ],
      "text/markdown": [
       "0.424044219731655"
      ],
      "text/plain": [
       "[1] 0.4240442"
      ]
     },
     "metadata": {},
     "output_type": "display_data"
    },
    {
     "data": {
      "text/html": [
       "0.00628287221289824"
      ],
      "text/latex": [
       "0.00628287221289824"
      ],
      "text/markdown": [
       "0.00628287221289824"
      ],
      "text/plain": [
       "[1] 0.006282872"
      ]
     },
     "metadata": {},
     "output_type": "display_data"
    },
    {
     "data": {
      "text/html": [
       "0.661388625067879"
      ],
      "text/latex": [
       "0.661388625067879"
      ],
      "text/markdown": [
       "0.661388625067879"
      ],
      "text/plain": [
       "[1] 0.6613886"
      ]
     },
     "metadata": {},
     "output_type": "display_data"
    },
    {
     "data": {
      "text/html": [
       "0.718662667771511"
      ],
      "text/latex": [
       "0.718662667771511"
      ],
      "text/markdown": [
       "0.718662667771511"
      ],
      "text/plain": [
       "[1] 0.7186627"
      ]
     },
     "metadata": {},
     "output_type": "display_data"
    },
    {
     "data": {
      "text/html": [
       "0.415664872672356"
      ],
      "text/latex": [
       "0.415664872672356"
      ],
      "text/markdown": [
       "0.415664872672356"
      ],
      "text/plain": [
       "[1] 0.4156649"
      ]
     },
     "metadata": {},
     "output_type": "display_data"
    },
    {
     "data": {
      "text/html": [
       "0.062596218565256"
      ],
      "text/latex": [
       "0.062596218565256"
      ],
      "text/markdown": [
       "0.062596218565256"
      ],
      "text/plain": [
       "[1] 0.06259622"
      ]
     },
     "metadata": {},
     "output_type": "display_data"
    },
    {
     "data": {
      "text/html": [
       "0.929609295645617"
      ],
      "text/latex": [
       "0.929609295645617"
      ],
      "text/markdown": [
       "0.929609295645617"
      ],
      "text/plain": [
       "[1] 0.9296093"
      ]
     },
     "metadata": {},
     "output_type": "display_data"
    },
    {
     "data": {
      "text/html": [
       "0.116844784713709"
      ],
      "text/latex": [
       "0.116844784713709"
      ],
      "text/markdown": [
       "0.116844784713709"
      ],
      "text/plain": [
       "[1] 0.1168448"
      ]
     },
     "metadata": {},
     "output_type": "display_data"
    },
    {
     "data": {
      "text/html": [
       "0.152112620647412"
      ],
      "text/latex": [
       "0.152112620647412"
      ],
      "text/markdown": [
       "0.152112620647412"
      ],
      "text/plain": [
       "[1] 0.1521126"
      ]
     },
     "metadata": {},
     "output_type": "display_data"
    },
    {
     "data": {
      "text/html": [
       "0.774338744775759"
      ],
      "text/latex": [
       "0.774338744775759"
      ],
      "text/markdown": [
       "0.774338744775759"
      ],
      "text/plain": [
       "[1] 0.7743387"
      ]
     },
     "metadata": {},
     "output_type": "display_data"
    },
    {
     "data": {
      "text/html": [
       "0.119637353449331"
      ],
      "text/latex": [
       "0.119637353449331"
      ],
      "text/markdown": [
       "0.119637353449331"
      ],
      "text/plain": [
       "[1] 0.1196374"
      ]
     },
     "metadata": {},
     "output_type": "display_data"
    },
    {
     "data": {
      "text/html": [
       "0.414236319541189"
      ],
      "text/latex": [
       "0.414236319541189"
      ],
      "text/markdown": [
       "0.414236319541189"
      ],
      "text/plain": [
       "[1] 0.4142363"
      ]
     },
     "metadata": {},
     "output_type": "display_data"
    },
    {
     "data": {
      "text/html": [
       "0.123878304972121"
      ],
      "text/latex": [
       "0.123878304972121"
      ],
      "text/markdown": [
       "0.123878304972121"
      ],
      "text/plain": [
       "[1] 0.1238783"
      ]
     },
     "metadata": {},
     "output_type": "display_data"
    },
    {
     "data": {
      "text/html": [
       "0.625653979793013"
      ],
      "text/latex": [
       "0.625653979793013"
      ],
      "text/markdown": [
       "0.625653979793013"
      ],
      "text/plain": [
       "[1] 0.625654"
      ]
     },
     "metadata": {},
     "output_type": "display_data"
    },
    {
     "data": {
      "text/html": [
       "0.191291486709808"
      ],
      "text/latex": [
       "0.191291486709808"
      ],
      "text/markdown": [
       "0.191291486709808"
      ],
      "text/plain": [
       "[1] 0.1912915"
      ]
     },
     "metadata": {},
     "output_type": "display_data"
    },
    {
     "data": {
      "text/html": [
       "0.817811250569269"
      ],
      "text/latex": [
       "0.817811250569269"
      ],
      "text/markdown": [
       "0.817811250569269"
      ],
      "text/plain": [
       "[1] 0.8178113"
      ]
     },
     "metadata": {},
     "output_type": "display_data"
    },
    {
     "data": {
      "text/html": [
       "0.486949543766316"
      ],
      "text/latex": [
       "0.486949543766316"
      ],
      "text/markdown": [
       "0.486949543766316"
      ],
      "text/plain": [
       "[1] 0.4869495"
      ]
     },
     "metadata": {},
     "output_type": "display_data"
    },
    {
     "data": {
      "text/html": [
       "0.0275559965873451"
      ],
      "text/latex": [
       "0.0275559965873451"
      ],
      "text/markdown": [
       "0.0275559965873451"
      ],
      "text/plain": [
       "[1] 0.027556"
      ]
     },
     "metadata": {},
     "output_type": "display_data"
    },
    {
     "data": {
      "text/html": [
       "0.00914757376859916"
      ],
      "text/latex": [
       "0.00914757376859916"
      ],
      "text/markdown": [
       "0.00914757376859916"
      ],
      "text/plain": [
       "[1] 0.009147574"
      ]
     },
     "metadata": {},
     "output_type": "display_data"
    },
    {
     "data": {
      "text/html": [
       "0.823337776517262"
      ],
      "text/latex": [
       "0.823337776517262"
      ],
      "text/markdown": [
       "0.823337776517262"
      ],
      "text/plain": [
       "[1] 0.8233378"
      ]
     },
     "metadata": {},
     "output_type": "display_data"
    },
    {
     "data": {
      "text/html": [
       "0.0233048613006122"
      ],
      "text/latex": [
       "0.0233048613006122"
      ],
      "text/markdown": [
       "0.0233048613006122"
      ],
      "text/plain": [
       "[1] 0.02330486"
      ]
     },
     "metadata": {},
     "output_type": "display_data"
    },
    {
     "data": {
      "text/html": [
       "0.0158261351294217"
      ],
      "text/latex": [
       "0.0158261351294217"
      ],
      "text/markdown": [
       "0.0158261351294217"
      ],
      "text/plain": [
       "[1] 0.01582614"
      ]
     },
     "metadata": {},
     "output_type": "display_data"
    },
    {
     "data": {
      "text/html": [
       "0.0247939282977415"
      ],
      "text/latex": [
       "0.0247939282977415"
      ],
      "text/markdown": [
       "0.0247939282977415"
      ],
      "text/plain": [
       "[1] 0.02479393"
      ]
     },
     "metadata": {},
     "output_type": "display_data"
    },
    {
     "data": {
      "text/html": [
       "0.0646080470296002"
      ],
      "text/latex": [
       "0.0646080470296002"
      ],
      "text/markdown": [
       "0.0646080470296002"
      ],
      "text/plain": [
       "[1] 0.06460805"
      ]
     },
     "metadata": {},
     "output_type": "display_data"
    },
    {
     "data": {
      "text/html": [
       "0.0191726176470774"
      ],
      "text/latex": [
       "0.0191726176470774"
      ],
      "text/markdown": [
       "0.0191726176470774"
      ],
      "text/plain": [
       "[1] 0.01917262"
      ]
     },
     "metadata": {},
     "output_type": "display_data"
    },
    {
     "data": {
      "text/html": [
       "0.386093633856547"
      ],
      "text/latex": [
       "0.386093633856547"
      ],
      "text/markdown": [
       "0.386093633856547"
      ],
      "text/plain": [
       "[1] 0.3860936"
      ]
     },
     "metadata": {},
     "output_type": "display_data"
    },
    {
     "data": {
      "text/html": [
       "0.000300091486911974"
      ],
      "text/latex": [
       "0.000300091486911974"
      ],
      "text/markdown": [
       "0.000300091486911974"
      ],
      "text/plain": [
       "[1] 0.0003000915"
      ]
     },
     "metadata": {},
     "output_type": "display_data"
    },
    {
     "data": {
      "text/html": [
       "0.000561935150591268"
      ],
      "text/latex": [
       "0.000561935150591268"
      ],
      "text/markdown": [
       "0.000561935150591268"
      ],
      "text/plain": [
       "[1] 0.0005619352"
      ]
     },
     "metadata": {},
     "output_type": "display_data"
    },
    {
     "data": {
      "text/html": [
       "0.26390078670948"
      ],
      "text/latex": [
       "0.26390078670948"
      ],
      "text/markdown": [
       "0.26390078670948"
      ],
      "text/plain": [
       "[1] 0.2639008"
      ]
     },
     "metadata": {},
     "output_type": "display_data"
    },
    {
     "data": {
      "text/html": [
       "0.408702072802674"
      ],
      "text/latex": [
       "0.408702072802674"
      ],
      "text/markdown": [
       "0.408702072802674"
      ],
      "text/plain": [
       "[1] 0.4087021"
      ]
     },
     "metadata": {},
     "output_type": "display_data"
    },
    {
     "data": {
      "text/html": [
       "0.230236118698967"
      ],
      "text/latex": [
       "0.230236118698967"
      ],
      "text/markdown": [
       "0.230236118698967"
      ],
      "text/plain": [
       "[1] 0.2302361"
      ]
     },
     "metadata": {},
     "output_type": "display_data"
    },
    {
     "data": {
      "text/html": [
       "0.470914536141167"
      ],
      "text/latex": [
       "0.470914536141167"
      ],
      "text/markdown": [
       "0.470914536141167"
      ],
      "text/plain": [
       "[1] 0.4709145"
      ]
     },
     "metadata": {},
     "output_type": "display_data"
    },
    {
     "data": {
      "text/html": [
       "0.0202094098444397"
      ],
      "text/latex": [
       "0.0202094098444397"
      ],
      "text/markdown": [
       "0.0202094098444397"
      ],
      "text/plain": [
       "[1] 0.02020941"
      ]
     },
     "metadata": {},
     "output_type": "display_data"
    },
    {
     "data": {
      "text/html": [
       "0.00211798821374726"
      ],
      "text/latex": [
       "0.00211798821374726"
      ],
      "text/markdown": [
       "0.00211798821374726"
      ],
      "text/plain": [
       "[1] 0.002117988"
      ]
     },
     "metadata": {},
     "output_type": "display_data"
    },
    {
     "data": {
      "text/html": [
       "0.0902955943685196"
      ],
      "text/latex": [
       "0.0902955943685196"
      ],
      "text/markdown": [
       "0.0902955943685196"
      ],
      "text/plain": [
       "[1] 0.09029559"
      ]
     },
     "metadata": {},
     "output_type": "display_data"
    },
    {
     "data": {
      "text/html": [
       "0.548104806024821"
      ],
      "text/latex": [
       "0.548104806024821"
      ],
      "text/markdown": [
       "0.548104806024821"
      ],
      "text/plain": [
       "[1] 0.5481048"
      ]
     },
     "metadata": {},
     "output_type": "display_data"
    },
    {
     "data": {
      "text/html": [
       "0.990293315985206"
      ],
      "text/latex": [
       "0.990293315985206"
      ],
      "text/markdown": [
       "0.990293315985206"
      ],
      "text/plain": [
       "[1] 0.9902933"
      ]
     },
     "metadata": {},
     "output_type": "display_data"
    },
    {
     "data": {
      "text/html": [
       "0.906179314108447"
      ],
      "text/latex": [
       "0.906179314108447"
      ],
      "text/markdown": [
       "0.906179314108447"
      ],
      "text/plain": [
       "[1] 0.9061793"
      ]
     },
     "metadata": {},
     "output_type": "display_data"
    },
    {
     "data": {
      "text/html": [
       "0.0685361353678674"
      ],
      "text/latex": [
       "0.0685361353678674"
      ],
      "text/markdown": [
       "0.0685361353678674"
      ],
      "text/plain": [
       "[1] 0.06853614"
      ]
     },
     "metadata": {},
     "output_type": "display_data"
    },
    {
     "data": {
      "text/html": [
       "0.0103865668608036"
      ],
      "text/latex": [
       "0.0103865668608036"
      ],
      "text/markdown": [
       "0.0103865668608036"
      ],
      "text/plain": [
       "[1] 0.01038657"
      ]
     },
     "metadata": {},
     "output_type": "display_data"
    },
    {
     "data": {
      "text/html": [
       "0.496424936411275"
      ],
      "text/latex": [
       "0.496424936411275"
      ],
      "text/markdown": [
       "0.496424936411275"
      ],
      "text/plain": [
       "[1] 0.4964249"
      ]
     },
     "metadata": {},
     "output_type": "display_data"
    },
    {
     "data": {
      "text/html": [
       "0.0966789671602219"
      ],
      "text/latex": [
       "0.0966789671602219"
      ],
      "text/markdown": [
       "0.0966789671602219"
      ],
      "text/plain": [
       "[1] 0.09667897"
      ]
     },
     "metadata": {},
     "output_type": "display_data"
    },
    {
     "data": {
      "text/html": [
       "0.000178388514504991"
      ],
      "text/latex": [
       "0.000178388514504991"
      ],
      "text/markdown": [
       "0.000178388514504991"
      ],
      "text/plain": [
       "[1] 0.0001783885"
      ]
     },
     "metadata": {},
     "output_type": "display_data"
    },
    {
     "data": {
      "text/html": [
       "0.144989250254276"
      ],
      "text/latex": [
       "0.144989250254276"
      ],
      "text/markdown": [
       "0.144989250254276"
      ],
      "text/plain": [
       "[1] 0.1449893"
      ]
     },
     "metadata": {},
     "output_type": "display_data"
    },
    {
     "data": {
      "text/html": [
       "0.305532820930457"
      ],
      "text/latex": [
       "0.305532820930457"
      ],
      "text/markdown": [
       "0.305532820930457"
      ],
      "text/plain": [
       "[1] 0.3055328"
      ]
     },
     "metadata": {},
     "output_type": "display_data"
    },
    {
     "data": {
      "text/html": [
       "0.000296272998755664"
      ],
      "text/latex": [
       "0.000296272998755664"
      ],
      "text/markdown": [
       "0.000296272998755664"
      ],
      "text/plain": [
       "[1] 0.000296273"
      ]
     },
     "metadata": {},
     "output_type": "display_data"
    },
    {
     "data": {
      "text/html": [
       "0.062021285840298"
      ],
      "text/latex": [
       "0.062021285840298"
      ],
      "text/markdown": [
       "0.062021285840298"
      ],
      "text/plain": [
       "[1] 0.06202129"
      ]
     },
     "metadata": {},
     "output_type": "display_data"
    },
    {
     "data": {
      "text/html": [
       "0.724632400027035"
      ],
      "text/latex": [
       "0.724632400027035"
      ],
      "text/markdown": [
       "0.724632400027035"
      ],
      "text/plain": [
       "[1] 0.7246324"
      ]
     },
     "metadata": {},
     "output_type": "display_data"
    },
    {
     "data": {
      "text/html": [
       "0.000870274974999082"
      ],
      "text/latex": [
       "0.000870274974999082"
      ],
      "text/markdown": [
       "0.000870274974999082"
      ],
      "text/plain": [
       "[1] 0.000870275"
      ]
     },
     "metadata": {},
     "output_type": "display_data"
    },
    {
     "data": {
      "text/html": [
       "0.150621275079533"
      ],
      "text/latex": [
       "0.150621275079533"
      ],
      "text/markdown": [
       "0.150621275079533"
      ],
      "text/plain": [
       "[1] 0.1506213"
      ]
     },
     "metadata": {},
     "output_type": "display_data"
    },
    {
     "data": {
      "text/html": [
       "0.2489889511608"
      ],
      "text/latex": [
       "0.2489889511608"
      ],
      "text/markdown": [
       "0.2489889511608"
      ],
      "text/plain": [
       "[1] 0.248989"
      ]
     },
     "metadata": {},
     "output_type": "display_data"
    },
    {
     "data": {
      "text/html": [
       "0.194246994893289"
      ],
      "text/latex": [
       "0.194246994893289"
      ],
      "text/markdown": [
       "0.194246994893289"
      ],
      "text/plain": [
       "[1] 0.194247"
      ]
     },
     "metadata": {},
     "output_type": "display_data"
    },
    {
     "data": {
      "text/html": [
       "0.0566550980525105"
      ],
      "text/latex": [
       "0.0566550980525105"
      ],
      "text/markdown": [
       "0.0566550980525105"
      ],
      "text/plain": [
       "[1] 0.0566551"
      ]
     },
     "metadata": {},
     "output_type": "display_data"
    },
    {
     "data": {
      "text/html": [
       "0.675040452309356"
      ],
      "text/latex": [
       "0.675040452309356"
      ],
      "text/markdown": [
       "0.675040452309356"
      ],
      "text/plain": [
       "[1] 0.6750405"
      ]
     },
     "metadata": {},
     "output_type": "display_data"
    },
    {
     "data": {
      "text/html": [
       "0.714156252539368"
      ],
      "text/latex": [
       "0.714156252539368"
      ],
      "text/markdown": [
       "0.714156252539368"
      ],
      "text/plain": [
       "[1] 0.7141563"
      ]
     },
     "metadata": {},
     "output_type": "display_data"
    },
    {
     "data": {
      "text/html": [
       "0.197831834970359"
      ],
      "text/latex": [
       "0.197831834970359"
      ],
      "text/markdown": [
       "0.197831834970359"
      ],
      "text/plain": [
       "[1] 0.1978318"
      ]
     },
     "metadata": {},
     "output_type": "display_data"
    },
    {
     "data": {
      "text/html": [
       "0.146606265472815"
      ],
      "text/latex": [
       "0.146606265472815"
      ],
      "text/markdown": [
       "0.146606265472815"
      ],
      "text/plain": [
       "[1] 0.1466063"
      ]
     },
     "metadata": {},
     "output_type": "display_data"
    },
    {
     "data": {
      "text/html": [
       "0.00926710776197271"
      ],
      "text/latex": [
       "0.00926710776197271"
      ],
      "text/markdown": [
       "0.00926710776197271"
      ],
      "text/plain": [
       "[1] 0.009267108"
      ]
     },
     "metadata": {},
     "output_type": "display_data"
    },
    {
     "data": {
      "text/html": [
       "0.645946798877488"
      ],
      "text/latex": [
       "0.645946798877488"
      ],
      "text/markdown": [
       "0.645946798877488"
      ],
      "text/plain": [
       "[1] 0.6459468"
      ]
     },
     "metadata": {},
     "output_type": "display_data"
    },
    {
     "data": {
      "text/html": [
       "0.97873333011754"
      ],
      "text/latex": [
       "0.97873333011754"
      ],
      "text/markdown": [
       "0.97873333011754"
      ],
      "text/plain": [
       "[1] 0.9787333"
      ]
     },
     "metadata": {},
     "output_type": "display_data"
    },
    {
     "data": {
      "text/html": [
       "0.165917251187884"
      ],
      "text/latex": [
       "0.165917251187884"
      ],
      "text/markdown": [
       "0.165917251187884"
      ],
      "text/plain": [
       "[1] 0.1659173"
      ]
     },
     "metadata": {},
     "output_type": "display_data"
    },
    {
     "data": {
      "text/html": [
       "0.245800050202276"
      ],
      "text/latex": [
       "0.245800050202276"
      ],
      "text/markdown": [
       "0.245800050202276"
      ],
      "text/plain": [
       "[1] 0.2458001"
      ]
     },
     "metadata": {},
     "output_type": "display_data"
    },
    {
     "data": {
      "text/html": [
       "0.0364497591998459"
      ],
      "text/latex": [
       "0.0364497591998459"
      ],
      "text/markdown": [
       "0.0364497591998459"
      ],
      "text/plain": [
       "[1] 0.03644976"
      ]
     },
     "metadata": {},
     "output_type": "display_data"
    },
    {
     "data": {
      "text/html": [
       "0.0454442285722247"
      ],
      "text/latex": [
       "0.0454442285722247"
      ],
      "text/markdown": [
       "0.0454442285722247"
      ],
      "text/plain": [
       "[1] 0.04544423"
      ]
     },
     "metadata": {},
     "output_type": "display_data"
    },
    {
     "data": {
      "text/html": [
       "0.0610173560484789"
      ],
      "text/latex": [
       "0.0610173560484789"
      ],
      "text/markdown": [
       "0.0610173560484789"
      ],
      "text/plain": [
       "[1] 0.06101736"
      ]
     },
     "metadata": {},
     "output_type": "display_data"
    },
    {
     "data": {
      "text/html": [
       "0.175827576194571"
      ],
      "text/latex": [
       "0.175827576194571"
      ],
      "text/markdown": [
       "0.175827576194571"
      ],
      "text/plain": [
       "[1] 0.1758276"
      ]
     },
     "metadata": {},
     "output_type": "display_data"
    },
    {
     "data": {
      "text/html": [
       "0.946187930687636"
      ],
      "text/latex": [
       "0.946187930687636"
      ],
      "text/markdown": [
       "0.946187930687636"
      ],
      "text/plain": [
       "[1] 0.9461879"
      ]
     },
     "metadata": {},
     "output_type": "display_data"
    },
    {
     "data": {
      "text/html": [
       "0.669148207288995"
      ],
      "text/latex": [
       "0.669148207288995"
      ],
      "text/markdown": [
       "0.669148207288995"
      ],
      "text/plain": [
       "[1] 0.6691482"
      ]
     },
     "metadata": {},
     "output_type": "display_data"
    },
    {
     "data": {
      "text/html": [
       "0.338084750025783"
      ],
      "text/latex": [
       "0.338084750025783"
      ],
      "text/markdown": [
       "0.338084750025783"
      ],
      "text/plain": [
       "[1] 0.3380848"
      ]
     },
     "metadata": {},
     "output_type": "display_data"
    },
    {
     "data": {
      "text/html": [
       "0.00499899486741385"
      ],
      "text/latex": [
       "0.00499899486741385"
      ],
      "text/markdown": [
       "0.00499899486741385"
      ],
      "text/plain": [
       "[1] 0.004998995"
      ]
     },
     "metadata": {},
     "output_type": "display_data"
    },
    {
     "data": {
      "text/html": [
       "0.240075233792263"
      ],
      "text/latex": [
       "0.240075233792263"
      ],
      "text/markdown": [
       "0.240075233792263"
      ],
      "text/plain": [
       "[1] 0.2400752"
      ]
     },
     "metadata": {},
     "output_type": "display_data"
    },
    {
     "data": {
      "text/html": [
       "0.301454710049257"
      ],
      "text/latex": [
       "0.301454710049257"
      ],
      "text/markdown": [
       "0.301454710049257"
      ],
      "text/plain": [
       "[1] 0.3014547"
      ]
     },
     "metadata": {},
     "output_type": "display_data"
    },
    {
     "data": {
      "text/html": [
       "0.338649762576761"
      ],
      "text/latex": [
       "0.338649762576761"
      ],
      "text/markdown": [
       "0.338649762576761"
      ],
      "text/plain": [
       "[1] 0.3386498"
      ]
     },
     "metadata": {},
     "output_type": "display_data"
    },
    {
     "data": {
      "text/html": [
       "0.0942036444384486"
      ],
      "text/latex": [
       "0.0942036444384486"
      ],
      "text/markdown": [
       "0.0942036444384486"
      ],
      "text/plain": [
       "[1] 0.09420364"
      ]
     },
     "metadata": {},
     "output_type": "display_data"
    },
    {
     "data": {
      "text/html": [
       "0.64025266238989"
      ],
      "text/latex": [
       "0.64025266238989"
      ],
      "text/markdown": [
       "0.64025266238989"
      ],
      "text/plain": [
       "[1] 0.6402527"
      ]
     },
     "metadata": {},
     "output_type": "display_data"
    },
    {
     "data": {
      "text/html": [
       "0.581678899274538"
      ],
      "text/latex": [
       "0.581678899274538"
      ],
      "text/markdown": [
       "0.581678899274538"
      ],
      "text/plain": [
       "[1] 0.5816789"
      ]
     },
     "metadata": {},
     "output_type": "display_data"
    },
    {
     "data": {
      "text/html": [
       "0.25088528119898"
      ],
      "text/latex": [
       "0.25088528119898"
      ],
      "text/markdown": [
       "0.25088528119898"
      ],
      "text/plain": [
       "[1] 0.2508853"
      ]
     },
     "metadata": {},
     "output_type": "display_data"
    },
    {
     "data": {
      "text/html": [
       "0.122724755549757"
      ],
      "text/latex": [
       "0.122724755549757"
      ],
      "text/markdown": [
       "0.122724755549757"
      ],
      "text/plain": [
       "[1] 0.1227248"
      ]
     },
     "metadata": {},
     "output_type": "display_data"
    },
    {
     "data": {
      "text/html": [
       "0.359576157964909"
      ],
      "text/latex": [
       "0.359576157964909"
      ],
      "text/markdown": [
       "0.359576157964909"
      ],
      "text/plain": [
       "[1] 0.3595762"
      ]
     },
     "metadata": {},
     "output_type": "display_data"
    },
    {
     "data": {
      "text/html": [
       "0.0795106006090915"
      ],
      "text/latex": [
       "0.0795106006090915"
      ],
      "text/markdown": [
       "0.0795106006090915"
      ],
      "text/plain": [
       "[1] 0.0795106"
      ]
     },
     "metadata": {},
     "output_type": "display_data"
    },
    {
     "data": {
      "text/html": [
       "0.311049677880159"
      ],
      "text/latex": [
       "0.311049677880159"
      ],
      "text/markdown": [
       "0.311049677880159"
      ],
      "text/plain": [
       "[1] 0.3110497"
      ]
     },
     "metadata": {},
     "output_type": "display_data"
    }
   ],
   "source": [
    "summary(HypTestAP1 )$coefficients[3,4]\n",
    "summary(HypTestAP2 )$coefficients[3,4]\n",
    "summary(HypTestAP3 )$coefficients[3,4]\n",
    "summary(HypTestAP4 )$coefficients[3,4]\n",
    "summary(HypTestAP5 )$coefficients[3,4]\n",
    "summary(HypTestAP6 )$coefficients[3,4]\n",
    "summary(HypTestAP7 )$coefficients[3,4]\n",
    "summary(HypTestAN1 )$coefficients[3,4]\n",
    "summary(HypTestAN2 )$coefficients[3,4]\n",
    "summary(HypTestAN3 )$coefficients[3,4]\n",
    "summary(HypTestAN4 )$coefficients[3,4]\n",
    "summary(HypTestAN5 )$coefficients[3,4]\n",
    "summary(HypTestAN6 )$coefficients[3,4]\n",
    "summary(HypTestAN7 )$coefficients[3,4]\n",
    "summary(HypTestAG1 )$coefficients[3,4]\n",
    "summary(HypTestAG2 )$coefficients[3,4]\n",
    "summary(HypTestAG3 )$coefficients[3,4]\n",
    "summary(HypTestAG4 )$coefficients[3,4]\n",
    "summary(HypTestAG5 )$coefficients[3,4]\n",
    "summary(HypTestAG6 )$coefficients[3,4]\n",
    "summary(HypTestAG7 )$coefficients[3,4]\n",
    "summary(HypTestAG8 )$coefficients[3,4]\n",
    "summary(HypTestAG9 )$coefficients[3,4]\n",
    "summary(HypTestAG10)$coefficients[3,4]\n",
    "summary(HypTestAG11)$coefficients[3,4]\n",
    "summary(HypTestAG12)$coefficients[3,4]\n",
    "summary(HypTestAG13)$coefficients[3,4]\n",
    "summary(HypTestAG14)$coefficients[3,4]\n",
    "summary(HypTestAG15)$coefficients[3,4]\n",
    "summary(HypTestAG16)$coefficients[3,4]\n",
    "summary(HypTestBP1 )$coefficients[3,4]\n",
    "summary(HypTestBP2 )$coefficients[3,4]\n",
    "summary(HypTestBP3 )$coefficients[3,4]\n",
    "summary(HypTestBP4 )$coefficients[3,4]\n",
    "summary(HypTestBP5 )$coefficients[3,4]\n",
    "summary(HypTestBP6 )$coefficients[3,4]\n",
    "summary(HypTestBP7 )$coefficients[3,4]\n",
    "summary(HypTestBN1 )$coefficients[3,4]\n",
    "summary(HypTestBN2 )$coefficients[3,4]\n",
    "summary(HypTestBN3 )$coefficients[3,4]\n",
    "summary(HypTestBN4 )$coefficients[3,4]\n",
    "summary(HypTestBN5 )$coefficients[3,4]\n",
    "summary(HypTestBN6 )$coefficients[3,4]\n",
    "summary(HypTestBN7 )$coefficients[3,4]\n",
    "summary(HypTestBG1 )$coefficients[3,4]\n",
    "summary(HypTestBG2 )$coefficients[3,4]\n",
    "summary(HypTestBG3 )$coefficients[3,4]\n",
    "summary(HypTestBG4 )$coefficients[3,4]\n",
    "summary(HypTestBG5 )$coefficients[3,4]\n",
    "summary(HypTestBG6 )$coefficients[3,4]\n",
    "summary(HypTestBG7 )$coefficients[3,4]\n",
    "summary(HypTestBG8 )$coefficients[3,4]\n",
    "summary(HypTestBG9 )$coefficients[3,4]\n",
    "summary(HypTestBG10)$coefficients[3,4]\n",
    "summary(HypTestBG11)$coefficients[3,4]\n",
    "summary(HypTestBG12)$coefficients[3,4]\n",
    "summary(HypTestBG13)$coefficients[3,4]\n",
    "summary(HypTestBG14)$coefficients[3,4]\n",
    "summary(HypTestBG15)$coefficients[3,4]\n",
    "summary(HypTestBG16)$coefficients[3,4]\n",
    "summary(HypTestCP1 )$coefficients[3,4]\n",
    "summary(HypTestCP2 )$coefficients[3,4]\n",
    "summary(HypTestCP3 )$coefficients[3,4]\n",
    "summary(HypTestCP4 )$coefficients[3,4]\n",
    "summary(HypTestCP5 )$coefficients[3,4]\n",
    "summary(HypTestCP6 )$coefficients[3,4]\n",
    "summary(HypTestCP7 )$coefficients[3,4]\n",
    "summary(HypTestCN1 )$coefficients[3,4]\n",
    "summary(HypTestCN2 )$coefficients[3,4]\n",
    "summary(HypTestCN3 )$coefficients[3,4]\n",
    "summary(HypTestCN4 )$coefficients[3,4]\n",
    "summary(HypTestCN5 )$coefficients[3,4]\n",
    "summary(HypTestCN6 )$coefficients[3,4]\n",
    "summary(HypTestCN7 )$coefficients[3,4]\n",
    "summary(HypTestCG1 )$coefficients[3,4]\n",
    "summary(HypTestCG2 )$coefficients[3,4]\n",
    "summary(HypTestCG3 )$coefficients[3,4]\n",
    "summary(HypTestCG4 )$coefficients[3,4]\n",
    "summary(HypTestCG5 )$coefficients[3,4]\n",
    "summary(HypTestCG6 )$coefficients[3,4]\n",
    "summary(HypTestCG7 )$coefficients[3,4]\n",
    "summary(HypTestCG8 )$coefficients[3,4]\n",
    "summary(HypTestCG9 )$coefficients[3,4]\n",
    "summary(HypTestCG10)$coefficients[3,4]\n",
    "summary(HypTestCG11)$coefficients[3,4]\n",
    "summary(HypTestCG12)$coefficients[3,4]\n",
    "summary(HypTestCG13)$coefficients[3,4]\n",
    "summary(HypTestCG14)$coefficients[3,4]\n",
    "summary(HypTestCG15)$coefficients[3,4]\n",
    "summary(HypTestCG16)$coefficients[3,4]\n",
    "summary(HypTestDP1 )$coefficients[3,4]\n",
    "summary(HypTestDP2 )$coefficients[3,4]\n",
    "summary(HypTestDP3 )$coefficients[3,4]\n",
    "summary(HypTestDP4 )$coefficients[3,4]\n",
    "summary(HypTestDP5 )$coefficients[3,4]\n",
    "summary(HypTestDP6 )$coefficients[3,4]\n",
    "summary(HypTestDP7 )$coefficients[3,4]\n",
    "summary(HypTestDN1 )$coefficients[3,4]\n",
    "summary(HypTestDN2 )$coefficients[3,4]\n",
    "summary(HypTestDN3 )$coefficients[3,4]\n",
    "summary(HypTestDN4 )$coefficients[3,4]\n",
    "summary(HypTestDN5 )$coefficients[3,4]\n",
    "summary(HypTestDN6 )$coefficients[3,4]\n",
    "summary(HypTestDN7 )$coefficients[3,4]\n",
    "summary(HypTestDG1 )$coefficients[3,4]\n",
    "summary(HypTestDG2 )$coefficients[3,4]\n",
    "summary(HypTestDG3 )$coefficients[3,4]\n",
    "summary(HypTestDG4 )$coefficients[3,4]\n",
    "summary(HypTestDG5 )$coefficients[3,4]\n",
    "summary(HypTestDG6 )$coefficients[3,4]\n",
    "summary(HypTestDG7 )$coefficients[3,4]\n",
    "summary(HypTestDG8 )$coefficients[3,4]\n",
    "summary(HypTestDG9 )$coefficients[3,4]\n",
    "summary(HypTestDG10)$coefficients[3,4]\n",
    "summary(HypTestDG11)$coefficients[3,4]\n",
    "summary(HypTestDG12)$coefficients[3,4]\n",
    "summary(HypTestDG13)$coefficients[3,4]\n",
    "summary(HypTestDG14)$coefficients[3,4]\n",
    "summary(HypTestDG15)$coefficients[3,4]\n",
    "summary(HypTestDG16)$coefficients[3,4]\n",
    "summary(HypTestEP1 )$coefficients[3,4]\n",
    "summary(HypTestEP2 )$coefficients[3,4]\n",
    "summary(HypTestEP3 )$coefficients[3,4]\n",
    "summary(HypTestEP4 )$coefficients[3,4]\n",
    "summary(HypTestEP5 )$coefficients[3,4]\n",
    "summary(HypTestEP6 )$coefficients[3,4]\n",
    "summary(HypTestEP7 )$coefficients[3,4]\n",
    "summary(HypTestEN1 )$coefficients[3,4]\n",
    "summary(HypTestEN2 )$coefficients[3,4]\n",
    "summary(HypTestEN3 )$coefficients[3,4]\n",
    "summary(HypTestEN4 )$coefficients[3,4]\n",
    "summary(HypTestEN5 )$coefficients[3,4]\n",
    "summary(HypTestEN6 )$coefficients[3,4]\n",
    "summary(HypTestEN7 )$coefficients[3,4]\n",
    "summary(HypTestEG1 )$coefficients[3,4]\n",
    "summary(HypTestEG2 )$coefficients[3,4]\n",
    "summary(HypTestEG3 )$coefficients[3,4]\n",
    "summary(HypTestEG4 )$coefficients[3,4]\n",
    "summary(HypTestEG5 )$coefficients[3,4]\n",
    "summary(HypTestEG6 )$coefficients[3,4]\n",
    "summary(HypTestEG7 )$coefficients[3,4]\n",
    "summary(HypTestEG8 )$coefficients[3,4]\n",
    "summary(HypTestEG9 )$coefficients[3,4]\n",
    "summary(HypTestEG10)$coefficients[3,4]\n",
    "summary(HypTestEG11)$coefficients[3,4]\n",
    "summary(HypTestEG12)$coefficients[3,4]\n",
    "summary(HypTestEG13)$coefficients[3,4]\n",
    "summary(HypTestEG14)$coefficients[3,4]\n",
    "summary(HypTestEG15)$coefficients[3,4]\n",
    "summary(HypTestEG16)$coefficients[3,4]"
   ]
  },
  {
   "cell_type": "code",
   "execution_count": 31,
   "metadata": {},
   "outputs": [],
   "source": [
    "AllStudies$General <- rowSums(AllStudies[,c(\"G1\", \"G2\", \"G3\", \"G4\", \"G5\", \"G6\", \"G7\",\"G8\", \"G9\", \"G10\", \"G11\", \"G12\", \"G13\", \"G14\", \"G15\", \"G16\")])"
   ]
  },
  {
   "cell_type": "code",
   "execution_count": null,
   "metadata": {},
   "outputs": [],
   "source": []
  }
 ],
 "metadata": {
  "kernelspec": {
   "display_name": "R",
   "language": "R",
   "name": "ir"
  },
  "language_info": {
   "codemirror_mode": "r",
   "file_extension": ".r",
   "mimetype": "text/x-r-source",
   "name": "R",
   "pygments_lexer": "r",
   "version": "3.4.3"
  }
 },
 "nbformat": 4,
 "nbformat_minor": 2
}
