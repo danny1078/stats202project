{
 "cells": [
  {
   "cell_type": "code",
   "execution_count": 21,
   "metadata": {},
   "outputs": [],
   "source": [
    "StudyA = read.csv('./data/Study_A.csv')\n",
    "StudyB = read.csv('./data/Study_B.csv')\n",
    "StudyC = read.csv('./data/Study_C.csv')\n",
    "StudyD = read.csv('./data/Study_D.csv')\n",
    "StudyE = read.csv('./data/Study_E.csv')\n",
    "StudyE$LeadStatus = NA\n",
    "AllStudies = rbind(StudyA, StudyB, StudyC, StudyD, StudyE)"
   ]
  },
  {
   "cell_type": "code",
   "execution_count": 22,
   "metadata": {},
   "outputs": [],
   "source": [
    "Hypothesis_Testing <-function(){\n",
    "    \n",
    "}"
   ]
  },
  {
   "cell_type": "code",
   "execution_count": null,
   "metadata": {},
   "outputs": [],
   "source": []
  }
 ],
 "metadata": {
  "kernelspec": {
   "display_name": "R",
   "language": "R",
   "name": "ir"
  },
  "language_info": {
   "codemirror_mode": "r",
   "file_extension": ".r",
   "mimetype": "text/x-r-source",
   "name": "R",
   "pygments_lexer": "r",
   "version": "3.6.0"
  }
 },
 "nbformat": 4,
 "nbformat_minor": 2
}
